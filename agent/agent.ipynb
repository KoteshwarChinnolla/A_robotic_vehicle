{
 "cells": [
  {
   "cell_type": "code",
   "execution_count": 1,
   "metadata": {},
   "outputs": [],
   "source": [
    "from robot_voice import build_graph\n",
    "graph=build_graph()\n",
    "graph_workflow=graph.graph_workflow()"
   ]
  },
  {
   "cell_type": "code",
   "execution_count": 2,
   "metadata": {},
   "outputs": [
    {
     "name": "stdout",
     "output_type": "stream",
     "text": [
      "[AIMessage(content='Task: Go to the store room to collect all the waste.\\nRoot: current location -> store room\\n\\nTask: After collecting the waste, go to the road to wait for the truck.\\nRoot: store room -> road', additional_kwargs={}, response_metadata={'token_usage': {'completion_tokens': 45, 'prompt_tokens': 206, 'total_tokens': 251, 'completion_time': 0.225, 'prompt_time': 0.011992065, 'queue_time': 0.054724299000000004, 'total_time': 0.236992065}, 'model_name': 'qwen-2.5-32b', 'system_fingerprint': 'fp_35f92f8282', 'finish_reason': 'stop', 'logprobs': None}, id='run-4928fc24-74eb-408a-a200-447097092dbd-0', usage_metadata={'input_tokens': 206, 'output_tokens': 45, 'total_tokens': 251}), AIMessage(content='', additional_kwargs={'tool_calls': [{'id': 'call_k86d', 'function': {'arguments': '{\"A\": \"current location\", \"B\": \"store room\"}', 'name': 'travel'}, 'type': 'function'}, {'id': 'call_2bw2', 'function': {'arguments': '{\"text\": \"Collecting all the waste.\"}', 'name': 'speak'}, 'type': 'function'}, {'id': 'call_14wz', 'function': {'arguments': '{\"A\": \"store room\", \"B\": \"road\"}', 'name': 'travel'}, 'type': 'function'}, {'id': 'call_d075', 'function': {'arguments': '{\"text\": \"Waiting for the truck at the road.\"}', 'name': 'speak'}, 'type': 'function'}]}, response_metadata={'token_usage': {'completion_tokens': 105, 'prompt_tokens': 309, 'total_tokens': 414, 'completion_time': 0.525, 'prompt_time': 0.01662905, 'queue_time': 0.055605487, 'total_time': 0.54162905}, 'model_name': 'qwen-2.5-32b', 'system_fingerprint': 'fp_35f92f8282', 'finish_reason': 'tool_calls', 'logprobs': None}, id='run-3c0f6b33-36f8-4b12-a5b5-9ffb103cd4e8-0', tool_calls=[{'name': 'travel', 'args': {'A': 'current location', 'B': 'store room'}, 'id': 'call_k86d', 'type': 'tool_call'}, {'name': 'speak', 'args': {'text': 'Collecting all the waste.'}, 'id': 'call_2bw2', 'type': 'tool_call'}, {'name': 'travel', 'args': {'A': 'store room', 'B': 'road'}, 'id': 'call_14wz', 'type': 'tool_call'}, {'name': 'speak', 'args': {'text': 'Waiting for the truck at the road.'}, 'id': 'call_d075', 'type': 'tool_call'}], usage_metadata={'input_tokens': 309, 'output_tokens': 105, 'total_tokens': 414})]\n",
      "[AIMessage(content='Task: Go to the store room to collect all the waste.\\nRoot: current location -> store room\\n\\nTask: After collecting the waste, go to the road to wait for the truck.\\nRoot: store room -> road', additional_kwargs={}, response_metadata={'token_usage': {'completion_tokens': 45, 'prompt_tokens': 206, 'total_tokens': 251, 'completion_time': 0.225, 'prompt_time': 0.011992065, 'queue_time': 0.054724299000000004, 'total_time': 0.236992065}, 'model_name': 'qwen-2.5-32b', 'system_fingerprint': 'fp_35f92f8282', 'finish_reason': 'stop', 'logprobs': None}, id='run-4928fc24-74eb-408a-a200-447097092dbd-0', usage_metadata={'input_tokens': 206, 'output_tokens': 45, 'total_tokens': 251}), AIMessage(content='', additional_kwargs={'tool_calls': [{'id': 'call_k86d', 'function': {'arguments': '{\"A\": \"current location\", \"B\": \"store room\"}', 'name': 'travel'}, 'type': 'function'}, {'id': 'call_2bw2', 'function': {'arguments': '{\"text\": \"Collecting all the waste.\"}', 'name': 'speak'}, 'type': 'function'}, {'id': 'call_14wz', 'function': {'arguments': '{\"A\": \"store room\", \"B\": \"road\"}', 'name': 'travel'}, 'type': 'function'}, {'id': 'call_d075', 'function': {'arguments': '{\"text\": \"Waiting for the truck at the road.\"}', 'name': 'speak'}, 'type': 'function'}]}, response_metadata={'token_usage': {'completion_tokens': 105, 'prompt_tokens': 309, 'total_tokens': 414, 'completion_time': 0.525, 'prompt_time': 0.01662905, 'queue_time': 0.055605487, 'total_time': 0.54162905}, 'model_name': 'qwen-2.5-32b', 'system_fingerprint': 'fp_35f92f8282', 'finish_reason': 'tool_calls', 'logprobs': None}, id='run-3c0f6b33-36f8-4b12-a5b5-9ffb103cd4e8-0', tool_calls=[{'name': 'travel', 'args': {'A': 'current location', 'B': 'store room'}, 'id': 'call_k86d', 'type': 'tool_call'}, {'name': 'speak', 'args': {'text': 'Collecting all the waste.'}, 'id': 'call_2bw2', 'type': 'tool_call'}, {'name': 'travel', 'args': {'A': 'store room', 'B': 'road'}, 'id': 'call_14wz', 'type': 'tool_call'}, {'name': 'speak', 'args': {'text': 'Waiting for the truck at the road.'}, 'id': 'call_d075', 'type': 'tool_call'}], usage_metadata={'input_tokens': 309, 'output_tokens': 105, 'total_tokens': 414})]\n",
      "content='Task: Go to the store room to collect all the waste.\\nRoot: current location -> store room\\n\\nTask: After collecting the waste, go to the road to wait for the truck.\\nRoot: store room -> road' additional_kwargs={} response_metadata={'token_usage': {'completion_tokens': 45, 'prompt_tokens': 206, 'total_tokens': 251, 'completion_time': 0.225, 'prompt_time': 0.011992065, 'queue_time': 0.054724299000000004, 'total_time': 0.236992065}, 'model_name': 'qwen-2.5-32b', 'system_fingerprint': 'fp_35f92f8282', 'finish_reason': 'stop', 'logprobs': None} id='run-4928fc24-74eb-408a-a200-447097092dbd-0' usage_metadata={'input_tokens': 206, 'output_tokens': 45, 'total_tokens': 251}\n",
      "content='' additional_kwargs={'tool_calls': [{'id': 'call_k86d', 'function': {'arguments': '{\"A\": \"current location\", \"B\": \"store room\"}', 'name': 'travel'}, 'type': 'function'}, {'id': 'call_2bw2', 'function': {'arguments': '{\"text\": \"Collecting all the waste.\"}', 'name': 'speak'}, 'type': 'function'}, {'id': 'call_14wz', 'function': {'arguments': '{\"A\": \"store room\", \"B\": \"road\"}', 'name': 'travel'}, 'type': 'function'}, {'id': 'call_d075', 'function': {'arguments': '{\"text\": \"Waiting for the truck at the road.\"}', 'name': 'speak'}, 'type': 'function'}]} response_metadata={'token_usage': {'completion_tokens': 105, 'prompt_tokens': 309, 'total_tokens': 414, 'completion_time': 0.525, 'prompt_time': 0.01662905, 'queue_time': 0.055605487, 'total_time': 0.54162905}, 'model_name': 'qwen-2.5-32b', 'system_fingerprint': 'fp_35f92f8282', 'finish_reason': 'tool_calls', 'logprobs': None} id='run-3c0f6b33-36f8-4b12-a5b5-9ffb103cd4e8-0' tool_calls=[{'name': 'travel', 'args': {'A': 'current location', 'B': 'store room'}, 'id': 'call_k86d', 'type': 'tool_call'}, {'name': 'speak', 'args': {'text': 'Collecting all the waste.'}, 'id': 'call_2bw2', 'type': 'tool_call'}, {'name': 'travel', 'args': {'A': 'store room', 'B': 'road'}, 'id': 'call_14wz', 'type': 'tool_call'}, {'name': 'speak', 'args': {'text': 'Waiting for the truck at the road.'}, 'id': 'call_d075', 'type': 'tool_call'}] usage_metadata={'input_tokens': 309, 'output_tokens': 105, 'total_tokens': 414}\n",
      "{'current location': '210 191', 'lastPosition': '210 191', 'road': '44 108', 'parking': '83 50', 'park': '128 35', 'waiting sofa': '155 87', 'dining table': '142 135', 'tv': '110 147', 'kitchen': '155 128', 'bed room 3': '192 214', 'bed room 2': '190 167', 'bed room 1': '189 126', 'store room': '186 83', 'laundry': '75 193', 'main door': '96 87', 'house7': '87 96'}\n",
      " \"current location\"\n",
      " \"store room\"\n"
     ]
    }
   ],
   "source": [
    "response=graph.response(\"go to store room collect all the waste then go to road stay there until truck comes\",\"Chinnnolla Koteshwar\",1)"
   ]
  },
  {
   "cell_type": "code",
   "execution_count": 5,
   "metadata": {},
   "outputs": [
    {
     "name": "stdout",
     "output_type": "stream",
     "text": [
      "<class 'dict'>\n",
      "<class 'str'>\n",
      "<class 'dict'>\n",
      "<class 'str'>\n"
     ]
    }
   ],
   "source": [
    "for i in response:\n",
    "    # print(str(i[\"function\"][\"name\"]) + \" \" + i[\"function\"][\"arguments\"])\n",
    "    print(type(i))"
   ]
  },
  {
   "cell_type": "code",
   "execution_count": null,
   "metadata": {},
   "outputs": [
    {
     "name": "stdout",
     "output_type": "stream",
     "text": [
      "{'current location': '210 191', 'lastPosition': '210 191', 'road': '44 108', 'parking': '83 50', 'park': '128 35', 'waiting sofa': '155 87', 'dining table': '142 135', 'tv': '110 147', 'kitchen': '155 128', 'bed room 3': '192 214', 'bed room 2': '190 167', 'bed room 1': '189 126', 'store room': '186 83', 'laundry': '75 193', 'main door': '96 87', 'house7': '87 96'}\n",
      " \"current location\"\n",
      " \"store room\"\n"
     ]
    }
   ],
   "source": [
    "import json\n",
    "\n",
    "with open(\"../lastpossition.json\", \"r\") as f:\n",
    "    data = json.load(f)\n",
    "print(data)\n",
    "data_to_send_list=[]\n",
    "for i in response:\n",
    "    data_to_send={}\n",
    "    if(i[\"function\"][\"name\"]==\"travel\"):\n",
    "        print(i[\"function\"][\"arguments\"].split(\",\")[0].split(\":\")[1])\n",
    "        A = i[\"function\"][\"arguments\"].split(\",\")[0].split(\":\")[1].replace('\"', \"\")\n",
    "        B=i[\"function\"][\"arguments\"].split(\",\")[1].split(\":\")[1].replace('\"', \"\")\n",
    "        data_to_send['A']=data[A[1:]]\n",
    "        data_to_send['B']=data[B[1:-1]]\n",
    "        data_to_send_list.append(data_to_send)\n",
    "    else:\n",
    "        data_to_send_list.append(i[\"function\"][\"arguments\"].split(\",\")[0].split(\":\")[1].replace('\"', \"\")[1:-1])\n"
   ]
  },
  {
   "cell_type": "code",
   "execution_count": null,
   "metadata": {},
   "outputs": [
    {
     "data": {
      "text/plain": [
       "[{'A': '210 191', 'B': '186 83'},\n",
       " 'Collecting all the waste from the store room.',\n",
       " {'A': '186 83', 'B': '44 108'},\n",
       " 'Arrived at the road and waiting for the truck.']"
      ]
     },
     "execution_count": 28,
     "metadata": {},
     "output_type": "execute_result"
    }
   ],
   "source": [
    "data_to_send_list"
   ]
  }
 ],
 "metadata": {
  "kernelspec": {
   "display_name": "Python 3",
   "language": "python",
   "name": "python3"
  },
  "language_info": {
   "codemirror_mode": {
    "name": "ipython",
    "version": 3
   },
   "file_extension": ".py",
   "mimetype": "text/x-python",
   "name": "python",
   "nbconvert_exporter": "python",
   "pygments_lexer": "ipython3",
   "version": "3.12.0"
  }
 },
 "nbformat": 4,
 "nbformat_minor": 2
}
